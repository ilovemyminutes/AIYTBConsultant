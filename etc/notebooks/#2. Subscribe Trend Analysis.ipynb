{
 "cells": [
  {
   "cell_type": "code",
   "execution_count": 1,
   "metadata": {},
   "outputs": [],
   "source": [
    "import os\n",
    "from glob import glob\n",
    "from datetime import datetime, timedelta\n",
    "\n",
    "import pandas as pd\n",
    "import numpy as np\n",
    "\n",
    "import matplotlib.pyplot as plt\n",
    "import matplotlib as mpl\n",
    "import seaborn as sns\n",
    "\n",
    "plt.style.use('ggplot')\n",
    "plt.rcParams[\"font.family\"] = 'NanumGothic'\n",
    "mpl.rcParams['axes.unicode_minus'] = False"
   ]
  },
  {
   "cell_type": "code",
   "execution_count": 9,
   "metadata": {},
   "outputs": [],
   "source": [
    "path_list = glob('../raw/#2. subscribe trend data/*')"
   ]
  },
  {
   "cell_type": "code",
   "execution_count": 10,
   "metadata": {},
   "outputs": [
    {
     "data": {
      "text/plain": [
       "['../raw/#2. subscribe trend data\\\\SubsTrend_BENI 유베니.csv',\n",
       " '../raw/#2. subscribe trend data\\\\SubsTrend_DICKHUNTER딕헌터.csv',\n",
       " '../raw/#2. subscribe trend data\\\\SubsTrend_HONG SOUND.csv',\n",
       " '../raw/#2. subscribe trend data\\\\SubsTrend_Hongyu ASMR 홍유.csv',\n",
       " '../raw/#2. subscribe trend data\\\\SubsTrend_[햄지]Hamzy.csv',\n",
       " '../raw/#2. subscribe trend data\\\\SubsTrend_가오니의 메뉴판GAONI.csv',\n",
       " '../raw/#2. subscribe trend data\\\\SubsTrend_규리 KYULEE.csv',\n",
       " '../raw/#2. subscribe trend data\\\\SubsTrend_나도Nado.csv',\n",
       " '../raw/#2. subscribe trend data\\\\SubsTrend_떵개떵.csv',\n",
       " '../raw/#2. subscribe trend data\\\\SubsTrend_리폴LeePaul.csv',\n",
       " '../raw/#2. subscribe trend data\\\\SubsTrend_밍칭mingching.csv',\n",
       " '../raw/#2. subscribe trend data\\\\SubsTrend_배블리MUKBANG[유투버vs리얼현실먹방].csv',\n",
       " '../raw/#2. subscribe trend data\\\\SubsTrend_부엉이TV.csv',\n",
       " '../raw/#2. subscribe trend data\\\\SubsTrend_산적TV 밥굽남.csv',\n",
       " '../raw/#2. subscribe trend data\\\\SubsTrend_살빼조DietJo.csv',\n",
       " '../raw/#2. subscribe trend data\\\\SubsTrend_세리티 Serity.csv',\n",
       " '../raw/#2. subscribe trend data\\\\SubsTrend_야미보이 Yummyboy.csv',\n",
       " '../raw/#2. subscribe trend data\\\\SubsTrend_야식이.csv',\n",
       " '../raw/#2. subscribe trend data\\\\SubsTrend_입짧은햇님.csv',\n",
       " '../raw/#2. subscribe trend data\\\\SubsTrend_푸메Fume.csv']"
      ]
     },
     "execution_count": 10,
     "metadata": {},
     "output_type": "execute_result"
    }
   ],
   "source": [
    "path_list"
   ]
  }
 ],
 "metadata": {
  "kernelspec": {
   "display_name": "Python 3",
   "language": "python",
   "name": "python3"
  },
  "language_info": {
   "codemirror_mode": {
    "name": "ipython",
    "version": 3
   },
   "file_extension": ".py",
   "mimetype": "text/x-python",
   "name": "python",
   "nbconvert_exporter": "python",
   "pygments_lexer": "ipython3",
   "version": "3.7.9"
  }
 },
 "nbformat": 4,
 "nbformat_minor": 4
}
